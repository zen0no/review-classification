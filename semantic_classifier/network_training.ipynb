{
 "cells": [
  {
   "attachments": {},
   "cell_type": "markdown",
   "metadata": {},
   "source": [
    "Предобратока датасета. Ссылка на оригинальный датасет: https://ai.stanford.edu/~amaas/data/sentiment/aclImdb_v1.tar.gz\n",
    "\n",
    "Сначала скачиваем датасет  копируем его в папку"
   ]
  },
  {
   "cell_type": "code",
   "execution_count": 1,
   "metadata": {},
   "outputs": [
    {
     "name": "stdout",
     "output_type": "stream",
     "text": [
      "--2023-03-20 10:16:01--  https://ai.stanford.edu/~amaas/data/sentiment/aclImdb_v1.tar.gz\n",
      "Распознаётся ai.stanford.edu (ai.stanford.edu)… 171.64.68.10\n",
      "Подключение к ai.stanford.edu (ai.stanford.edu)|171.64.68.10|:443... соединение установлено.\n",
      "HTTP-запрос отправлен. Ожидание ответа… 200 OK\n",
      "Длина: 84125825 (80M) [application/x-gzip]\n",
      "Сохранение в: «data.tar.gz»\n",
      "\n",
      "data.tar.gz         100%[===================>]  80,23M  7,19MB/s    за 23s     \n",
      "\n",
      "2023-03-20 10:16:25 (3,54 MB/s) - «data.tar.gz» сохранён [84125825/84125825]\n",
      "\n"
     ]
    }
   ],
   "source": [
    "!wget -O data.tar.gz https://ai.stanford.edu/~amaas/data/sentiment/aclImdb_v1.tar.gz"
   ]
  },
  {
   "cell_type": "code",
   "execution_count": 2,
   "metadata": {},
   "outputs": [],
   "source": [
    "!mkdir -p ./dataset | tar -xf data.tar.gz -C ./dataset | rm data.tar.gz"
   ]
  },
  {
   "cell_type": "code",
   "execution_count": null,
   "metadata": {},
   "outputs": [],
   "source": []
  }
 ],
 "metadata": {
  "kernelspec": {
   "display_name": "venv",
   "language": "python",
   "name": "python3"
  },
  "language_info": {
   "codemirror_mode": {
    "name": "ipython",
    "version": 3
   },
   "file_extension": ".py",
   "mimetype": "text/x-python",
   "name": "python",
   "nbconvert_exporter": "python",
   "pygments_lexer": "ipython3",
   "version": "3.8.10"
  },
  "orig_nbformat": 4,
  "vscode": {
   "interpreter": {
    "hash": "7277ae45d2b78ff247606e61e7b7b55cac0167ed2919cb5bb58c2bd157899645"
   }
  }
 },
 "nbformat": 4,
 "nbformat_minor": 2
}
