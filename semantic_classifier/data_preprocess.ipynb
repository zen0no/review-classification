{
 "cells": [],
 "metadata": {
  "kernelspec": {
   "display_name": "venv",
   "language": "python",
   "name": "python3"
  },
  "language_info": {
   "name": "python",
   "version": "3.8.10"
  },
  "orig_nbformat": 4,
  "vscode": {
   "interpreter": {
    "hash": "7277ae45d2b78ff247606e61e7b7b55cac0167ed2919cb5bb58c2bd157899645"
   }
  }
 },
 "nbformat": 4,
 "nbformat_minor": 2
}
